{
 "cells": [
  {
   "cell_type": "markdown",
   "id": "21e2d5fa",
   "metadata": {},
   "source": [
    "# Swapnil.Shah.BDAT1004PS1 - 200476773"
   ]
  },
  {
   "cell_type": "markdown",
   "id": "953ea191",
   "metadata": {},
   "source": [
    "## Question 1 C#"
   ]
  },
  {
   "cell_type": "markdown",
   "id": "4cd368d2",
   "metadata": {},
   "source": [
    "### What data type is each of the following?"
   ]
  },
  {
   "cell_type": "code",
   "execution_count": null,
   "id": "c3386ff9",
   "metadata": {
    "scrolled": false
   },
   "outputs": [],
   "source": [
    " 5         Integer\n",
    " 5.0       Double\n",
    " 5 > 1     Boolean\n",
    "'5'        Character \n",
    " 5 * 2     Integer \n",
    "'5' * 2    Integer\n",
    "'5' + '2'  Integer\n",
    " 5 / 2     Integer\n",
    " 5 % 2     Integer\n",
    "{5, 2, 1}  Integer array (same elements)\n",
    " 5 == 3    Boolean \n",
    " Pi (the number) Double"
   ]
  },
  {
   "cell_type": "markdown",
   "id": "ae3709ce",
   "metadata": {},
   "source": [
    "## Question 2 C#"
   ]
  },
  {
   "cell_type": "markdown",
   "id": "3b7efcdb",
   "metadata": {},
   "source": [
    "### Write (and evaluate) C# expressions that answer these questions:"
   ]
  },
  {
   "cell_type": "markdown",
   "id": "ac5ffbfa",
   "metadata": {},
   "source": [
    "### a. How many letters are there in 'Supercalifragilisticexpialidocious'?"
   ]
  },
  {
   "cell_type": "code",
   "execution_count": 59,
   "id": "5abe4c62",
   "metadata": {
    "scrolled": true
   },
   "outputs": [
    {
     "name": "stdout",
     "output_type": "stream",
     "text": [
      "Length of the given string: 34\r\n"
     ]
    }
   ],
   "source": [
    "string name= \"Supercalifragilisticexpialidocious\";\n",
    "int length= name.Length;\n",
    "Console.WriteLine(\"Length of the given string: \"+length)"
   ]
  },
  {
   "cell_type": "markdown",
   "id": "542ae9f9",
   "metadata": {},
   "source": [
    "### b. Does 'Supercalifragilisticexpialidocious' contain 'ice' as a substring? "
   ]
  },
  {
   "cell_type": "code",
   "execution_count": 6,
   "id": "fd35676c",
   "metadata": {},
   "outputs": [
    {
     "name": "stdout",
     "output_type": "stream",
     "text": [
      "It contains 'ice' as a substring!\r\n"
     ]
    }
   ],
   "source": [
    "string name = \"Supercalifragilisticexpialidocious\";\n",
    "bool flag = name.Contains(\"ice\");\n",
    "if (flag == false) {                        // based on the flag, it will print the answer  \n",
    "    Console.WriteLine(\"It doesn't contain 'ice' as a substring\");\n",
    "} else {\n",
    "    Console.WriteLine(\"It contains 'ice' as a substring!\");\n",
    "}"
   ]
  },
  {
   "cell_type": "markdown",
   "id": "028bc68d",
   "metadata": {},
   "source": [
    "### c. Which of the following words is the longest: Supercalifragilisticexpialidocious, Honorificabilitudinitatibus, or            Bababadalgharaghtakamminarronnkonn? "
   ]
  },
  {
   "cell_type": "code",
   "execution_count": 20,
   "id": "4d16a681",
   "metadata": {},
   "outputs": [
    {
     "name": "stdout",
     "output_type": "stream",
     "text": [
      "Longest word is/are 2 \n",
      "Supercalifragilisticexpialidocious\n",
      "Bababadalgharaghtakamminarronnkonn\n"
     ]
    }
   ],
   "source": [
    "string[] words = {                      \n",
    "    \"Supercalifragilisticexpialidocious\",\n",
    "    \"Honorificabilitudinitatibus\",\n",
    "    \"Bababadalgharaghtakamminarronnkonn\"\n",
    "};\n",
    "string word = \"\";\n",
    "int WordLength = 0;\n",
    "List < string > longerWords = new List < string > ();\n",
    "String[] str;\n",
    "foreach(string s in words) {                 //looping foreach for checking the length of every word\n",
    "    if (s.Length >= WordLength) {\n",
    "        word = s;\n",
    "        WordLength = s.Length;\n",
    "        longerWords.Add(word);              //adding those words in a list \n",
    "        //str = longerWords.ToArray();\n",
    "    }\n",
    "}\n",
    "Console.WriteLine($\"Longest word is/are {longerWords.Count} \");  //Count of largest words\n",
    "foreach(string s in longerWords){       // for each loop for printing those words\n",
    "    Console.WriteLine(s);\n",
    "}"
   ]
  },
  {
   "cell_type": "markdown",
   "id": "76df9e51",
   "metadata": {},
   "source": [
    "### d. Which composer comes first in the dictionary: 'Berlioz', 'Borodin', 'Brian', 'Bartok', 'Bellini', 'Buxtehude', 'Bernstein'. Which one comes last?"
   ]
  },
  {
   "cell_type": "code",
   "execution_count": 2,
   "id": "fe5e8cf0",
   "metadata": {
    "scrolled": true
   },
   "outputs": [
    {
     "name": "stdout",
     "output_type": "stream",
     "text": [
      "Sorted by Composer Name\n",
      "=======================\n",
      "Key: Bartok, Value: 4\n",
      "Key: Bellini, Value: 5\n",
      "Key: Berlioz, Value: 1\n",
      "Key: Bernsteinl, Value: 7\n",
      "Key: Borodin, Value: 2\n",
      "Key: Brian, Value: 3\n",
      "Key: Buxtehude, Value: 6\n",
      "\n",
      "First Composer : Bartok,\n",
      "Last Composer : Buxtehude\n",
      "\n",
      "First Composer : [Bartok, 4],\n",
      "Last Composer : [Buxtehude, 6]\n",
      "\n",
      "By Second Method using sorted set\n",
      "\n",
      "First Composer : Bartok,\n",
      "Last Composer : Buxtehude\n"
     ]
    }
   ],
   "source": [
    " // Create a dictionary with Key value pair of string and int\n",
    " Dictionary < string, Int16 > ComposerList = new Dictionary < string, Int16 > ();  \n",
    " ComposerList.Add(\"Berlioz\", 1);\n",
    " ComposerList.Add(\"Borodin\", 2);\n",
    " ComposerList.Add(\"Brian\", 3);\n",
    " ComposerList.Add(\"Bartok\", 4);\n",
    " ComposerList.Add(\"Bellini\", 5);\n",
    " ComposerList.Add(\"Buxtehude\", 6);\n",
    " ComposerList.Add(\"Bernsteinl\", 7);\n",
    "\n",
    " Dictionary < string, Int16 > SortedComposerList = new Dictionary < string, Int16 > ();   // Making another dictionary for sorted ones\n",
    " List < string > SortedComposers = new List < string > ();\n",
    " Console.WriteLine(\"Sorted by Composer Name\");\n",
    " Console.WriteLine(\"=======================\");\n",
    " // for each loop for sorting the composer names on the basis of a key from  dictionary\n",
    " foreach(KeyValuePair < string, Int16 > author in ComposerList.OrderBy(key => key.Key)) { \n",
    "     Console.WriteLine(\"Key: {0}, Value: {1}\", author.Key, author.Value);\n",
    "     SortedComposerList.Add(author.Key, author.Value);\n",
    "     SortedComposers.Add(author.Key);\n",
    " }\n",
    " Console.WriteLine(\"\\nFirst Composer : {0},\\nLast Composer : {1}\", SortedComposers.First(), SortedComposers.Last()); \n",
    " Console.WriteLine(\"\\nFirst Composer : {0},\\nLast Composer : {1}\", SortedComposerList.First(), SortedComposerList.Last());\n",
    " \n",
    "Console.WriteLine($\"\\nBy Second Method using sorted set\");\n",
    "\n",
    "SortedSet<string> composerList = new SortedSet<string>();\n",
    "composerList.Add(\"Berlioz\");\n",
    "composerList.Add(\"Borodin\");\n",
    "composerList.Add(\"Brian\");\n",
    "composerList.Add(\"Bartok\");\n",
    "composerList.Add(\"Bellini\");\n",
    "composerList.Add(\"Buxtehude\");\n",
    "composerList.Add(\"Bernsteinl\");\n",
    "\n",
    "  foreach(var val in composerList)\n",
    "        {\n",
    "           // Console.WriteLine(val);\n",
    "        }\n",
    "\n",
    "Console.WriteLine(\"\\nFirst Composer : {0},\\nLast Composer : {1}\", composerList.First(), composerList.Last());"
   ]
  },
  {
   "cell_type": "markdown",
   "id": "7397efbb",
   "metadata": {},
   "source": [
    "## Question 3 C#"
   ]
  },
  {
   "cell_type": "markdown",
   "id": "54552441",
   "metadata": {},
   "source": [
    "### Implement function triangleArea(a,b,c) that takes as input the lengths of the 3 sides of a triangle and returns the area of the triangle. By Heron's formula, the area of a triangle with side lengths a, b, and c is s(s - a)(s -b)(s -c) , where s = (a+b+c)/2"
   ]
  },
  {
   "cell_type": "code",
   "execution_count": 3,
   "id": "bdbdf796",
   "metadata": {},
   "outputs": [
    {
     "name": "stdout",
     "output_type": "stream",
     "text": [
      "Area of Triangle : 1.7320508075688772\r\n"
     ]
    }
   ],
   "source": [
    "public static double triangleArea(int a, int b, int c) {\n",
    "    double s = (a + b + c) / 2;\n",
    "    double area = Math.Sqrt(s * (s - a) *\n",
    "        (s - b) * (s - c));\n",
    "    return area;\n",
    "}\n",
    "double area = triangleArea(2, 2, 2);\n",
    "Console.WriteLine($\"Area of Triangle : {area}\")"
   ]
  },
  {
   "cell_type": "markdown",
   "id": "0d645b94",
   "metadata": {},
   "source": [
    "## Question 4 C#"
   ]
  },
  {
   "cell_type": "markdown",
   "id": "4f79a7ff",
   "metadata": {},
   "source": [
    "### Write a program in C# Sharp to separate odd and even integers in separate arrays.\n",
    "### Go to the editor\n",
    "### Test Data :\n",
    "### Input the number of elements to be stored in the array :5\n",
    "### Input 5 elements in the array :\n",
    "### element - 0 : 25\n",
    "### element - 1 : 47\n",
    "### element - 2 : 42\n",
    "### element - 3 : 56\n",
    "### element - 4 : 32\n",
    "### Expected Output:\n",
    "### The Even elements are:\n",
    "### 42 56 32\n",
    "### The Odd elements are :\n",
    "### 25 47"
   ]
  },
  {
   "cell_type": "code",
   "execution_count": null,
   "id": "916433d8",
   "metadata": {
    "scrolled": true
   },
   "outputs": [],
   "source": [
    "// I have done this question in visual studio as jupyter doesn't support ReadLine in C#, \n",
    "// Kindly find the attached screenshot below in the next cell.\n",
    "\n",
    "Console.Write(\"Input the number of elements to be stored in the array :\");\n",
    "int inpt = Convert.ToInt32(Console.ReadLine());\n",
    "int[] arr = new int[inpt];\n",
    "int[] EvenArr;\n",
    "int[] OddArr;\n",
    "List < int > EvenNos = new List < int > ();\n",
    "List < int > OddNos = new List < int > ();\n",
    "Console.WriteLine($\"Input {inpt} elements in the array :\");\n",
    "for (int i = 0; i < 5; i++) {\n",
    "    Console.Write(\"element - {0} : \", i);         \n",
    "    arr[i] = Convert.ToInt32(Console.ReadLine());  // reading inputs from a console\n",
    "}\n",
    "\n",
    "for (int i = 0; i < 5; i++) {\n",
    "    //Console.Write(\"{0}  \", arr[i]);\n",
    "    if (arr[i] % 2 == 0) {       // separating numbers in 2 different arrays on basis of even and odd\n",
    "        EvenNos.Add(arr[i]);\n",
    "        EvenArr = EvenNos.ToArray();\n",
    "    } else {\n",
    "        OddNos.Add(arr[i]);\n",
    "        OddArr = OddNos.ToArray();\n",
    "    }\n",
    "}\n",
    "\n",
    "Console.WriteLine(\"\\nThe Even elements are:\");\n",
    "\n",
    "foreach(int i in EvenNos) {        // printing even nos.\n",
    "    Console.Write($\"{i}\\t\");\n",
    "}\n",
    "\n",
    "Console.WriteLine(\"\\nThe Odd elements are:\");\n",
    "foreach(int i in OddNos) {         // printing odd nos.\n",
    "    Console.Write($\"{i}\\t\");\n",
    "}\n",
    "Console.WriteLine(\"\\n\");"
   ]
  },
  {
   "attachments": {
    "image.png": {
     "image/png": "[encoded data removed]"
    }
   },
   "cell_type": "markdown",
   "id": "e266d39c",
   "metadata": {},
   "source": [
    "![image.png](attachment:image.png)"
   ]
  },
  {
   "cell_type": "markdown",
   "id": "92b3ad92",
   "metadata": {},
   "source": [
    "#### Here it's link of an image, in case it's not visible\n",
    "https://github.com/swaps-stack96/Swapnil.Shah.BDAT1004PS1/blob/main/Question4C%23.PNG"
   ]
  },
  {
   "cell_type": "markdown",
   "id": "aeaac15a",
   "metadata": {},
   "source": [
    "## Question 5 C#"
   ]
  },
  {
   "cell_type": "markdown",
   "id": "159f6d1c",
   "metadata": {},
   "source": [
    "### a. Write a function inside(x,y,x1,y1,x2,y2) that returns True or False depending on whether the point (x,y) lies in the rectangle with lower left corner (x1,y1) and upper right corner (x2,y2).\n",
    "### b. Use function inside() from part a. to write an expression that tests whether the point (1,1) lies in both of the following rectangles: one with lower left corner (0.3, 0.5) and upper right corner (1.1, 0.7) and the other with lower left corner (0.5, 0.2) and upper right corner (1.1, 2). \n"
   ]
  },
  {
   "cell_type": "code",
   "execution_count": 9,
   "id": "a62c7848",
   "metadata": {
    "scrolled": false
   },
   "outputs": [
    {
     "name": "stdout",
     "output_type": "stream",
     "text": [
      "----------a.--------\n",
      "\n",
      "inside(1,1,0,0,2,3):True\n",
      "inside(-1,-1,0,0,2,3):False\n",
      "\n",
      "----------b.--------\n",
      "\n",
      "The point (1,1) doesn't lie in both of the following rectangles\n",
      "\n",
      "inside(1,1,0.3,0.5,1.1,0.7):False\n",
      "inside(1,1,0.5,0.2,1.1,2):True\n"
     ]
    }
   ],
   "source": [
    "public static bool inside(double x, double y, double x1, double y1, double x2, double y2) {\n",
    "    // points - x,y, lower left corner - x1,y1, upper right corner - x2,y2.   \n",
    "\n",
    "    if (x > x1 && x < x2 &&\n",
    "        y > y1 && y < y2)\n",
    "        return true;\n",
    "\n",
    "    return false;\n",
    "}\n",
    "\n",
    "Console.WriteLine(\"----------a.--------\\n\");\n",
    "Console.WriteLine($\"inside(1,1,0,0,2,3):{inside(1,1,0,0,2,3)}\");\n",
    "Console.WriteLine($\"inside(-1,-1,0,0,2,3):{inside(-1,-1,0,0,2,3)}\\n\");\n",
    "Console.WriteLine(\"----------b.--------\\n\");\n",
    "\n",
    "// if execution of both of the rectangles come true then it lies in both of them.\n",
    "\n",
    "if(inside(1,1,0.3,0.5,1.1,0.7) && inside(1,1,0.5,0.2,1.1,2)){\n",
    "    Console.WriteLine(\"the point (1,1) lies in both of the following rectangles\");\n",
    "}\n",
    "else{\n",
    "    Console.WriteLine(\"The point (1,1) doesn't lie in both of the following rectangles\");\n",
    "}\n",
    "Console.WriteLine($\"\\ninside(1,1,0.3,0.5,1.1,0.7):{inside(1,1,0.3,0.5,1.1,0.7)}\");\n",
    "Console.WriteLine($\"inside(1,1,0.5,0.2,1.1,2):{inside(1,1,0.5,0.2,1.1,2)}\");"
   ]
  },
  {
   "cell_type": "markdown",
   "id": "f76db5f3",
   "metadata": {},
   "source": [
    "## Question 6 Python"
   ]
  },
  {
   "cell_type": "markdown",
   "id": "9a433e0a",
   "metadata": {},
   "source": [
    "### Write a function pig() that takes a word (i.e., a string) as input and returns its pigLatin form. Your function should still work if the input word contains upper case characters. Your output should always be lower case however. \n"
   ]
  },
  {
   "cell_type": "code",
   "execution_count": 1,
   "id": "8a4c51d8",
   "metadata": {},
   "outputs": [
    {
     "name": "stdout",
     "output_type": "stream",
     "text": [
      "appyhay\n",
      "enterway\n"
     ]
    }
   ],
   "source": [
    "vow=('a','e','i','o','u') \n",
    "def pig(word):\n",
    "    if(word[0].lower() in vow):  #checking for vowels in first letter\n",
    "        print(word.lower()+'way')\n",
    "    else:\n",
    "        print(word[1:].lower()+word[0].lower()+'ay') \n",
    "pig('happy')\n",
    "pig('Enter')"
   ]
  },
  {
   "cell_type": "markdown",
   "id": "b6201ff7",
   "metadata": {},
   "source": [
    "## Question 7 Python"
   ]
  },
  {
   "cell_type": "markdown",
   "id": "a866b55a",
   "metadata": {},
   "source": [
    "### File bloodtype1.txt records blood-types of patients (A, B, AB, O or OO) at a clinic. Write a function bldcount() that reads the file with name name and reports (i.e., prints) how many patients there are in each bloodtype."
   ]
  },
  {
   "cell_type": "code",
   "execution_count": 48,
   "id": "1d82b7be",
   "metadata": {
    "scrolled": true
   },
   "outputs": [
    {
     "name": "stdout",
     "output_type": "stream",
     "text": [
      "There are 15 patients of blood type A.\n",
      "There is one patient of blood type B.\n",
      "There are 13 patients of blood type AB.\n",
      "There are 15 patients of blood type O.\n",
      "There are no patients of blood type OO.\n"
     ]
    }
   ],
   "source": [
    "def bldcount():\n",
    "    infile = open('bloodtype1.txt','r')\n",
    "    data=infile.read()\n",
    "    finalData=data.split()\n",
    "    bloodCountA(finalData.count(\"A\"))          #each function will count the value of patients on the basis of bloodgroups.\n",
    "    bloodCountB(finalData.count(\"B\"))          #if, elif, else will trigger on the basis of count of the patients.\n",
    "    bloodCountAB(finalData.count(\"AB\"))\n",
    "    bloodCountO(finalData.count(\"O\"))\n",
    "    bloodCountOO(finalData.count(\"OO\"))\n",
    "    infile.close()\n",
    "def bloodCountA(countA):\n",
    "         if(countA==0):\n",
    "            print('There are no patients of blood type A.')\n",
    "         elif(countA==1):\n",
    "            print(\"There is one patient of blood type A.\")\n",
    "         else:\n",
    "            print(\"There are \" + str(countA) + \" patients of blood type A.\")\n",
    "def bloodCountB(countB):\n",
    "         if(countB==0):\n",
    "            print('There are no patients of blood type B.')\n",
    "         elif(countB==1):\n",
    "            print(\"There is one patient of blood type B.\")\n",
    "         else:\n",
    "            print(\"There are \" + str(countB) + \" patients of blood type B.\")\n",
    "def bloodCountAB(countAB):\n",
    "         if(countAB==0):\n",
    "            print('There are no patients of blood type AB.')\n",
    "         elif(countAB==1):\n",
    "            print(\"There is one patient of blood type AB.\")\n",
    "         else:\n",
    "            print(\"There are \" + str(countAB) + \" patients of blood type AB.\")\n",
    "def bloodCountO(countO):\n",
    "         if(countO==0):\n",
    "            print('There are no patients of blood type O.')\n",
    "         elif(countO==1):\n",
    "            print(\"There is one patient of blood type O.\")\n",
    "         else:\n",
    "            print(\"There are \" + str(countO) + \" patients of blood type O.\")\n",
    "def bloodCountOO(countOO):\n",
    "         if(countOO==0):\n",
    "            print('There are no patients of blood type OO.')\n",
    "         elif(countOO==1):\n",
    "            print(\"There is one patient of blood type OO.\")\n",
    "         else:\n",
    "            print(\"There are \" + str(countOO) + \" patients of blood type OO.\")\n",
    "            \n",
    "            \n",
    "bldcount()     # calling the final funcion."
   ]
  },
  {
   "cell_type": "markdown",
   "id": "ed1a788e",
   "metadata": {},
   "source": [
    "## Question 8 Python"
   ]
  },
  {
   "cell_type": "markdown",
   "id": "5a946c06",
   "metadata": {},
   "source": [
    "### Write a function curconv() that takes as input:\n",
    "### 1. a currency represented using a string (e.g., 'JPY' for the Japanese Yen or 'EUR' for the Euro)\n",
    "### 2. an amount and then converts and returns the amount in US dollars.\n"
   ]
  },
  {
   "cell_type": "code",
   "execution_count": 78,
   "id": "c5d462bc",
   "metadata": {},
   "outputs": [
    {
     "name": "stdout",
     "output_type": "stream",
     "text": [
      "Enter the currency :eur\n",
      "Enter the currency :jpy\n"
     ]
    }
   ],
   "source": [
    "currencyEUR= input('Enter the currency :')    ## input for the Euro currency\n",
    "currencyJPY= input('Enter the currency :')    ## input for Japanese currency"
   ]
  },
  {
   "cell_type": "code",
   "execution_count": 80,
   "id": "8ebb85b5",
   "metadata": {},
   "outputs": [
    {
     "name": "stdout",
     "output_type": "stream",
     "text": [
      "Your converted currency in US dollars from EUR : 122.96544\n",
      "Your converted currency in US dollars from JPY : 1.241401\n"
     ]
    }
   ],
   "source": [
    "def curconv(curr,conv):             # function which takes 2 args one as a currency rate and other as exchange value\n",
    "    infile=open('currencies.txt')\n",
    "    data= infile.read()\n",
    "    finalData=data.split()         # splitting values with ,\n",
    "    #print(data)\n",
    "    #print(finalData)\n",
    "    infile.close()\n",
    "    if(curr in finalData):\n",
    "        pos = finalData.index(curr) + 1       # finding the next position(index) of the required currency\n",
    "        conv = float(finalData[pos]) * conv   # Accessing that value at particular index and converting to USD\n",
    "        print('Your converted currency in US dollars from ' + curr + ' : ' + str(conv))\n",
    "        \n",
    "curconv(currencyEUR.upper(),100) \n",
    "curconv(currencyJPY.upper(),100)"
   ]
  },
  {
   "cell_type": "markdown",
   "id": "61d4a9e6",
   "metadata": {},
   "source": [
    "## Question 9 Python"
   ]
  },
  {
   "cell_type": "markdown",
   "id": "5cbc63f6",
   "metadata": {},
   "source": [
    "### Each of the following will cause an exception (an error). Identify what type of exception each will cause.\n"
   ]
  },
  {
   "cell_type": "code",
   "execution_count": null,
   "id": "51652fe3",
   "metadata": {},
   "outputs": [],
   "source": [
    "1: Trying to add incompatible variables, as in adding 6 + ‘a’ \n",
    "   Ans : TypeError\n",
    "\n",
    "2: Referring to the 12th item of a list that has only 10 items\n",
    "   Ans : IndexError, list index out of range\n",
    "    \n",
    "3: Using a value that is out of range for a function’s input, such as calling math.sqrt(-1.0)\n",
    "   Ans : ValueError\n",
    "\n",
    "4: Using an undeclared variable, such as print(x) when x has not been defined \n",
    "   Ans : NameError, 'x' is not defined\n",
    "    \n",
    "5: Trying to open a file that does not exist, such as mistyping the file name or looking in the wrong directory.  \n",
    "   Ans : FileNotFoundError"
   ]
  },
  {
   "cell_type": "markdown",
   "id": "3756584d",
   "metadata": {},
   "source": [
    "## Question 10 Python"
   ]
  },
  {
   "cell_type": "markdown",
   "id": "15901f8f",
   "metadata": {},
   "source": [
    "### Assume that the string letters is already defined as 'abcdefghijklmnopqrstuvwxyz'. Write a function called frequencies() that takes a string as its only parameter, and returns a list of integers, showing the number of times each character appears in the text. Your function may ignore any characters that are not in letters. "
   ]
  },
  {
   "cell_type": "code",
   "execution_count": 26,
   "id": "84d5050b",
   "metadata": {},
   "outputs": [
    {
     "name": "stdout",
     "output_type": "stream",
     "text": [
      "1,1,1,3,5,1,1,2,1,0,1,0,1,2,4,0,1,2,0,2,1,0,1,1,0,0,\n",
      "\n",
      "1,0,0,0,1,0,0,0,0,0,0,1,0,0,0,2,0,0,0,0,0,0,0,0,0,0,"
     ]
    }
   ],
   "source": [
    "def frequencies(sentence):\n",
    "    lst=['a','b','c','d','e','f','g','h','i','j','k','l','m','n','o','p','q','r','s','t','u','v','w','x','y','z']\n",
    "    inputWord= sentence\n",
    "    Length_lst=len(lst)     # couting length of a list\n",
    "    for i in range(0,Length_lst):       # range has been set till the lenth of a list\n",
    "        data= inputWord.count(lst[i])   # couning each occurance of a letter from a sentence on the basis of a list\n",
    "        lst1 = str(data)\n",
    "        print(lst1,end= \",\" )\n",
    "frequencies('The quick red fox got bored and went home.')\n",
    "print(\"\\n\")\n",
    "frequencies('apple')"
   ]
  }
 ],
 "metadata": {
  "kernelspec": {
   "display_name": "Python 3",
   "language": "python",
   "name": "python3"
  },
  "language_info": {
   "codemirror_mode": {
    "name": "ipython",
    "version": 3
   },
   "file_extension": ".py",
   "mimetype": "text/x-python",
   "name": "python",
   "nbconvert_exporter": "python",
   "pygments_lexer": "ipython3",
   "version": "3.8.8"
  }
 },
 "nbformat": 4,
 "nbformat_minor": 5
}
